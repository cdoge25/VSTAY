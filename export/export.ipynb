{
 "cells": [
  {
   "cell_type": "code",
   "execution_count": 20,
   "metadata": {},
   "outputs": [
    {
     "name": "stderr",
     "output_type": "stream",
     "text": [
      "C:\\Users\\haing\\AppData\\Local\\Temp\\ipykernel_6416\\505557181.py:36: UserWarning: pandas only supports SQLAlchemy connectable (engine/connection) or database string URI or sqlite3 DBAPI2 connection. Other DBAPI2 objects are not tested. Please consider using SQLAlchemy.\n",
      "  df = pd.read_sql(query, conn)\n"
     ]
    },
    {
     "name": "stdout",
     "output_type": "stream",
     "text": [
      "Successfully exported GUEST_ACCOUNT to GUEST_ACCOUNT.csv\n",
      "Successfully exported OWNER_ACCOUNT to OWNER_ACCOUNT.csv\n",
      "Successfully exported ACCOMMODATION_TYPE to ACCOMMODATION_TYPE.csv\n",
      "Successfully exported FACILITIES to FACILITIES.csv\n",
      "Successfully exported ROOM_AMENITIES to ROOM_AMENITIES.csv\n",
      "Successfully exported PROVINCE to PROVINCE.csv\n",
      "Error exporting CITY/DISTRICT: Cannot save file into a non-existent directory: 'CITY'\n",
      "Successfully exported ACCOMMODATION to ACCOMMODATION.csv\n",
      "Successfully exported FACILITIES_INCLUDED to FACILITIES_INCLUDED.csv\n",
      "Successfully exported AMENITIES_INCLUDED to AMENITIES_INCLUDED.csv\n",
      "Error exporting VOUCHER/COUPON: Cannot save file into a non-existent directory: 'VOUCHER'\n",
      "Successfully exported BOOKING_STATUS to BOOKING_STATUS.csv\n",
      "Successfully exported PAYMENT_TYPE to PAYMENT_TYPE.csv\n",
      "Successfully exported BOOKING to BOOKING.csv\n",
      "Successfully exported PAYMENT to PAYMENT.csv\n",
      "Successfully exported FEEDBACK to FEEDBACK.csv\n",
      "Successfully exported sysdiagrams to sysdiagrams.csv\n",
      "\n",
      "Export complete!\n"
     ]
    }
   ],
   "source": [
    "import os\n",
    "\n",
    "import pandas as pd\n",
    "import pyodbc\n",
    "from dotenv import load_dotenv\n",
    "\n",
    "load_dotenv()\n",
    "password = os.getenv(\"PASSWORD\")\n",
    "\n",
    "# Connection string\n",
    "conn_str = (\n",
    "    \"Driver={ODBC Driver 17 for SQL Server};\"\n",
    "    \"Server=localhost,1433;\"\n",
    "    \"Database=VSTAY;\"\n",
    "    \"UID=sa;\"\n",
    "    f\"PWD={password};\"\n",
    "    \"TrustServerCertificate=yes;\"\n",
    ")\n",
    "\n",
    "# Establish connection\n",
    "conn = pyodbc.connect(conn_str)\n",
    "cursor = conn.cursor()\n",
    "\n",
    "# Get all table names\n",
    "table_query = \"\"\"\n",
    "SELECT TABLE_NAME \n",
    "FROM INFORMATION_SCHEMA.TABLES \n",
    "WHERE TABLE_TYPE = 'BASE TABLE'\n",
    "\"\"\"\n",
    "tables = [row[0] for row in cursor.execute(table_query).fetchall()]\n",
    "\n",
    "# Export each table\n",
    "for table in tables:\n",
    "    try:\n",
    "        # Read the table into a pandas DataFrame\n",
    "        query = f\"SELECT * FROM [{table}]\"\n",
    "        df = pd.read_sql(query, conn)\n",
    "\n",
    "        # Export to CSV\n",
    "        output_file = f\"{table}.csv\"\n",
    "        df.to_csv(output_file, index=False)\n",
    "        print(f\"Successfully exported {table} to {output_file}\")\n",
    "\n",
    "    except Exception as e:\n",
    "        print(f\"Error exporting {table}: {str(e)}\")\n",
    "\n",
    "# Close connection\n",
    "conn.close()\n",
    "print(\"\\nExport complete!\")"
   ]
  },
  {
   "cell_type": "code",
   "execution_count": null,
   "metadata": {},
   "outputs": [],
   "source": []
  }
 ],
 "metadata": {
  "kernelspec": {
   "display_name": ".venv",
   "language": "python",
   "name": "python3"
  },
  "language_info": {
   "codemirror_mode": {
    "name": "ipython",
    "version": 3
   },
   "file_extension": ".py",
   "mimetype": "text/x-python",
   "name": "python",
   "nbconvert_exporter": "python",
   "pygments_lexer": "ipython3",
   "version": "3.11.11"
  }
 },
 "nbformat": 4,
 "nbformat_minor": 2
}
